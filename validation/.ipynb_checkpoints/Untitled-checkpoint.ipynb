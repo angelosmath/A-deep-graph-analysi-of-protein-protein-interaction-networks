{
 "cells": [
  {
   "cell_type": "code",
   "execution_count": 1,
   "id": "d754f9d2",
   "metadata": {},
   "outputs": [],
   "source": [
    "import pandas as pd\n",
    "import matplotlib.pyplot as plt"
   ]
  },
  {
   "cell_type": "code",
   "execution_count": 2,
   "id": "5e5d6451",
   "metadata": {},
   "outputs": [],
   "source": [
    "UCSC_path = '/home/angelosmath/MSc/thesis_ppi_mean/data/UCSC/gg_ppi.csv'\n",
    "STRING_path = '/home/angelosmath/MSc/thesis_ppi_mean/mapping/STRING_gene.csv'"
   ]
  },
  {
   "cell_type": "code",
   "execution_count": 31,
   "id": "80e874ae",
   "metadata": {},
   "outputs": [],
   "source": [
    "string_df = pd.read_csv(STRING_path, low_memory=False)\n",
    "ucsc_df = pd.read_csv(UCSC_path, low_memory=False)"
   ]
  },
  {
   "cell_type": "code",
   "execution_count": 32,
   "id": "8cee7743",
   "metadata": {
    "scrolled": true
   },
   "outputs": [
    {
     "name": "stdout",
     "output_type": "stream",
     "text": [
      "(13343180, 3)\n",
      "(715308, 3)\n"
     ]
    }
   ],
   "source": [
    "print(string_df.shape)\n",
    "\n",
    "print(ucsc_df.shape)"
   ]
  },
  {
   "cell_type": "code",
   "execution_count": 33,
   "id": "40aa5cdc",
   "metadata": {},
   "outputs": [
    {
     "name": "stdout",
     "output_type": "stream",
     "text": [
      "UCSC unique Genes: 11743\n",
      "String unique Genes: 19074\n",
      "Common genes: 10879\n"
     ]
    }
   ],
   "source": [
    "ucsc_genes = set(ucsc_df['gene1'].unique()).intersection(ucsc_df['gene2'].unique())\n",
    "string_genes = set(string_df['gene1'].unique()).intersection(string_df['gene2'].unique())\n",
    "\n",
    "\n",
    "print(f'UCSC unique Genes: {len(list(string_genes))}')\n",
    "print(f'String unique Genes: {len(list(ucsc_genes))}')\n",
    "\n",
    "\n",
    "common_genes = list(ucsc_genes.intersection(string_genes))\n",
    "\n",
    "print(f'Common genes: {len(common_genes)}')"
   ]
  },
  {
   "cell_type": "code",
   "execution_count": 5,
   "id": "3d4c16bf",
   "metadata": {},
   "outputs": [],
   "source": [
    "# Extract unique gene pairs from each DataFrame\n",
    "string_gene_pairs = set(zip(STRING_df['gene1'], STRING_df['gene2']))\n",
    "ucsc_gene_pairs = set(zip(UCSC_df['gene1'], UCSC_df['gene2']))"
   ]
  },
  {
   "cell_type": "code",
   "execution_count": 9,
   "id": "a99806da",
   "metadata": {},
   "outputs": [
    {
     "name": "stdout",
     "output_type": "stream",
     "text": [
      "common pairs of genes: 234807\n"
     ]
    }
   ],
   "source": [
    "common_pairs = string_gene_pairs.intersection(ucsc_gene_pairs)\n",
    "\n",
    "#common_pairs_df = pd.DataFrame(list(common_pairs), columns=['gene1', 'gene2'])\n",
    "\n",
    "print(f'common pairs of genes: {len(common_pairs)}')"
   ]
  },
  {
   "cell_type": "code",
   "execution_count": 10,
   "id": "f77f13fe",
   "metadata": {},
   "outputs": [
    {
     "name": "stdout",
     "output_type": "stream",
     "text": [
      "Number of gene pairs unique to STRING_df: 13091674\n"
     ]
    }
   ],
   "source": [
    "# Find gene pairs that exist in STRING_df but not in UCSC_df\n",
    "unique_pairs_in_string = string_gene_pairs - ucsc_gene_pairs\n",
    "\n",
    "print(\"Number of gene pairs unique to STRING_df:\", len(unique_pairs_in_string))\n",
    "\n",
    "unique_STRING_df = pd.DataFrame(list(unique_pairs_in_string), columns=['gene1', 'gene2'])\n",
    "\n",
    "unique_STRING_df = STRING_df[STRING_df[['gene1', 'gene2']].apply(tuple, axis=1).isin(unique_STRING_df.apply(tuple, axis=1))]"
   ]
  },
  {
   "cell_type": "code",
   "execution_count": 16,
   "id": "f46fc3df",
   "metadata": {
    "scrolled": true
   },
   "outputs": [
    {
     "name": "stdout",
     "output_type": "stream",
     "text": [
      "found 1706924 gene paris with score greater than 400\n"
     ]
    }
   ],
   "source": [
    "score = 400\n",
    "\n",
    "threshold_positive = unique_STRING_df[unique_STRING_df['combined_score'] > score]\n",
    "\n",
    "print(f'found {threshold_positive.shape[0]} gene paris with score greater than {score}')"
   ]
  },
  {
   "cell_type": "code",
   "execution_count": 18,
   "id": "094f4e25",
   "metadata": {},
   "outputs": [],
   "source": [
    "n = 100 # sample a number of pairs \n",
    "\n",
    "positive_samples = threshold_positive.sample(n)"
   ]
  },
  {
   "cell_type": "code",
   "execution_count": 29,
   "id": "24ac54d4",
   "metadata": {},
   "outputs": [],
   "source": [
    "random_genes = pd.Series()"
   ]
  },
  {
   "cell_type": "code",
   "execution_count": 30,
   "id": "ca0773ac",
   "metadata": {},
   "outputs": [
    {
     "ename": "TypeError",
     "evalue": "unsupported operand type(s) for -: 'list' and 'set'",
     "output_type": "error",
     "traceback": [
      "\u001b[0;31m---------------------------------------------------------------------------\u001b[0m",
      "\u001b[0;31mTypeError\u001b[0m                                 Traceback (most recent call last)",
      "\u001b[0;32m/tmp/ipykernel_5833/2300017096.py\u001b[0m in \u001b[0;36m<module>\u001b[0;34m\u001b[0m\n\u001b[1;32m      1\u001b[0m \u001b[0;32mwhile\u001b[0m \u001b[0mlen\u001b[0m\u001b[0;34m(\u001b[0m\u001b[0mrandom_genes\u001b[0m\u001b[0;34m)\u001b[0m \u001b[0;34m<\u001b[0m \u001b[0mn\u001b[0m\u001b[0;34m:\u001b[0m\u001b[0;34m\u001b[0m\u001b[0;34m\u001b[0m\u001b[0m\n\u001b[0;32m----> 2\u001b[0;31m     \u001b[0mgene\u001b[0m \u001b[0;34m=\u001b[0m \u001b[0mpd\u001b[0m\u001b[0;34m.\u001b[0m\u001b[0mSeries\u001b[0m\u001b[0;34m(\u001b[0m\u001b[0mlist\u001b[0m\u001b[0;34m(\u001b[0m\u001b[0mcommon_genes\u001b[0m \u001b[0;34m-\u001b[0m \u001b[0mset\u001b[0m\u001b[0;34m(\u001b[0m\u001b[0mrandom_genes\u001b[0m\u001b[0;34m)\u001b[0m\u001b[0;34m)\u001b[0m\u001b[0;34m)\u001b[0m\u001b[0;34m.\u001b[0m\u001b[0msample\u001b[0m\u001b[0;34m(\u001b[0m\u001b[0;36m1\u001b[0m\u001b[0;34m)\u001b[0m\u001b[0;34m.\u001b[0m\u001b[0miloc\u001b[0m\u001b[0;34m[\u001b[0m\u001b[0;36m0\u001b[0m\u001b[0;34m]\u001b[0m\u001b[0;34m\u001b[0m\u001b[0;34m\u001b[0m\u001b[0m\n\u001b[0m\u001b[1;32m      3\u001b[0m \u001b[0;34m\u001b[0m\u001b[0m\n\u001b[1;32m      4\u001b[0m     \u001b[0;32mif\u001b[0m \u001b[0mall\u001b[0m\u001b[0;34m(\u001b[0m\u001b[0;34m(\u001b[0m\u001b[0mgene\u001b[0m \u001b[0;32mnot\u001b[0m \u001b[0;32min\u001b[0m \u001b[0mpair\u001b[0m\u001b[0;34m)\u001b[0m \u001b[0;32mfor\u001b[0m \u001b[0mpair\u001b[0m \u001b[0;32min\u001b[0m \u001b[0mstring_gene_pairs\u001b[0m\u001b[0;34m)\u001b[0m \u001b[0;32mand\u001b[0m \u001b[0mall\u001b[0m\u001b[0;34m(\u001b[0m\u001b[0;34m(\u001b[0m\u001b[0mgene\u001b[0m \u001b[0;32mnot\u001b[0m \u001b[0;32min\u001b[0m \u001b[0mpair\u001b[0m\u001b[0;34m)\u001b[0m \u001b[0;32mfor\u001b[0m \u001b[0mpair\u001b[0m \u001b[0;32min\u001b[0m \u001b[0mucsc_gene_pairs\u001b[0m\u001b[0;34m)\u001b[0m\u001b[0;34m:\u001b[0m\u001b[0;34m\u001b[0m\u001b[0;34m\u001b[0m\u001b[0m\n\u001b[1;32m      5\u001b[0m         \u001b[0mrandom_genes\u001b[0m \u001b[0;34m=\u001b[0m \u001b[0mrandom_genes\u001b[0m\u001b[0;34m.\u001b[0m\u001b[0mappend\u001b[0m\u001b[0;34m(\u001b[0m\u001b[0mpd\u001b[0m\u001b[0;34m.\u001b[0m\u001b[0mSeries\u001b[0m\u001b[0;34m(\u001b[0m\u001b[0;34m[\u001b[0m\u001b[0mgene\u001b[0m\u001b[0;34m]\u001b[0m\u001b[0;34m)\u001b[0m\u001b[0;34m,\u001b[0m \u001b[0mignore_index\u001b[0m\u001b[0;34m=\u001b[0m\u001b[0;32mTrue\u001b[0m\u001b[0;34m)\u001b[0m\u001b[0;34m\u001b[0m\u001b[0;34m\u001b[0m\u001b[0m\n",
      "\u001b[0;31mTypeError\u001b[0m: unsupported operand type(s) for -: 'list' and 'set'"
     ]
    }
   ],
   "source": [
    "while len(random_genes) < n:\n",
    "    gene = pd.Series(list(common_genes - set(random_genes))).sample(1).iloc[0]\n",
    "    \n",
    "    if all((gene not in pair) for pair in string_gene_pairs) and all((gene not in pair) for pair in ucsc_gene_pairs):\n",
    "        random_genes = random_genes.append(pd.Series([gene]), ignore_index=True)\n"
   ]
  },
  {
   "cell_type": "code",
   "execution_count": null,
   "id": "591859e7",
   "metadata": {},
   "outputs": [],
   "source": []
  },
  {
   "cell_type": "code",
   "execution_count": null,
   "id": "f2fde731",
   "metadata": {},
   "outputs": [],
   "source": []
  },
  {
   "cell_type": "code",
   "execution_count": null,
   "id": "34ab9e1d",
   "metadata": {},
   "outputs": [],
   "source": []
  },
  {
   "cell_type": "code",
   "execution_count": null,
   "id": "76623ad9",
   "metadata": {},
   "outputs": [],
   "source": []
  },
  {
   "cell_type": "code",
   "execution_count": null,
   "id": "efec35b8",
   "metadata": {},
   "outputs": [],
   "source": []
  },
  {
   "cell_type": "code",
   "execution_count": 19,
   "id": "c078c0e0",
   "metadata": {},
   "outputs": [],
   "source": []
  },
  {
   "cell_type": "code",
   "execution_count": 23,
   "id": "221fc427",
   "metadata": {},
   "outputs": [
    {
     "name": "stdout",
     "output_type": "stream",
     "text": [
      "UCSC unique Genes: 11743\n",
      "String unique Genes: 19074\n",
      "Common genes: 10879\n"
     ]
    }
   ],
   "source": [
    "UCSC_unique = set(UCSC_df['gene1'].unique()).intersection(UCSC_df['gene2'].unique())\n",
    "STRING_unique = set(STRING_df['gene1'].unique()).intersection(STRING_df['gene2'].unique())\n",
    "\n",
    "\n",
    "print(f'UCSC unique Genes: {len(list(UCSC_unique))}')\n",
    "print(f'String unique Genes: {len(list(STRING_unique))}')\n",
    "\n",
    "\n",
    "common_genes = list(UCSC_unique.intersection(STRING_unique))\n",
    "\n",
    "print(f'Common genes: {len(common_genes)}')"
   ]
  },
  {
   "cell_type": "code",
   "execution_count": 21,
   "id": "087ba055",
   "metadata": {},
   "outputs": [
    {
     "name": "stdout",
     "output_type": "stream",
     "text": [
      "number of common genes: 10879 \n",
      "genes missing: 864\n"
     ]
    }
   ],
   "source": []
  },
  {
   "cell_type": "code",
   "execution_count": null,
   "id": "92ea8a18",
   "metadata": {},
   "outputs": [],
   "source": [
    "# Filter dataframes to include only common gene names\n",
    "UCSC_common = UCSC_df[UCSC_df['gene1'].isin(common_genes) & UCSC_df['gene2'].isin(common_genes)]\n",
    "STRING_common = STRING_df[STRING_df['gene1'].isin(common_genes) & STRING_df['gene2'].isin(common_genes)]"
   ]
  },
  {
   "cell_type": "code",
   "execution_count": null,
   "id": "f1d6b8de",
   "metadata": {
    "scrolled": true
   },
   "outputs": [],
   "source": [
    "# Identify common gene names\n",
    "common_genes = set(UCSC_df['gene1']).intersection(UCSC_df['gene2']).intersection(STRING_df['gene1']).intersection(STRING_df['gene2'])\n",
    "\n",
    "# Perform left join directly\n",
    "combined_df = pd.merge(UCSC_df, STRING_df, how='left', on=['gene1', 'gene2'], indicator=True)\n",
    "\n",
    "# Filter rows based on common gene names and create a copy\n",
    "combined_common_df = combined_df[combined_df['gene1'].isin(common_genes) & combined_df['gene2'].isin(common_genes)].copy()\n",
    "\n",
    "# Rename the indicator column to 'match'\n",
    "combined_common_df.rename(columns={'_merge': 'match'}, inplace=True)\n",
    "\n",
    "# Print the counts\n",
    "print(combined_common_df[combined_common_df['match'] == 'right_only'].shape)\n",
    "print(combined_common_df[combined_common_df['match'] == 'left_only'].shape)\n",
    "print(combined_common_df[combined_common_df['match'] == 'both'].shape)\n"
   ]
  },
  {
   "cell_type": "code",
   "execution_count": null,
   "id": "7173833a",
   "metadata": {},
   "outputs": [],
   "source": [
    "# Unique values before left join\n",
    "unique_before = set(UCSC_df['gene1']).union(UCSC_df['gene2']).union(STRING_df['gene1']).union(STRING_df['gene2'])\n",
    "\n",
    "# Unique values after left join\n",
    "unique_after = set(combined_df['gene1']).union(combined_df['gene2'])\n",
    "\n",
    "# Difference in unique values\n",
    "difference = unique_before.difference(unique_after)\n",
    "\n",
    "print(\"Unique values before left join: \", len(unique_before))\n",
    "print(\"Unique values after left join: \", len(unique_after))\n",
    "print(\"Difference in unique values: \", len(difference))"
   ]
  },
  {
   "cell_type": "code",
   "execution_count": null,
   "id": "f8d4a953",
   "metadata": {},
   "outputs": [],
   "source": [
    "# Identify missing gene names\n",
    "missing_gene_names = unique_before.difference(unique_after)\n",
    "\n",
    "# Print missing gene names\n",
    "print(\"Number of missing gene names: \", len(missing_gene_names))\n",
    "print(\"Missing gene names: \", missing_gene_names)"
   ]
  },
  {
   "cell_type": "code",
   "execution_count": null,
   "id": "0f1a3cdb",
   "metadata": {},
   "outputs": [],
   "source": [
    "# Filter dataframes to include only common gene names\n",
    "UCSC_common = UCSC_df[UCSC_df['gene1'].isin(common_genes) & UCSC_df['gene2'].isin(common_genes)]\n",
    "STRING_common = STRING_df[STRING_df['gene1'].isin(common_genes) & STRING_df['gene2'].isin(common_genes)]\n",
    "\n",
    "# Perform left join\n",
    "combined_df = UCSC_common.merge(STRING_common, how='left', on=['gene1', 'gene2'], indicator=True)\n",
    "\n",
    "# Rename the indicator column to 'match'\n",
    "combined_df.rename(columns={'_merge': 'match'}, inplace=True)\n",
    "\n",
    "# Print the counts\n",
    "print(combined_df[combined_df['match'] == 'right_only'].shape)\n",
    "print(combined_df[combined_df['match'] == 'left_only'].shape)\n",
    "print(combined_df[combined_df['match'] == 'both'].shape)"
   ]
  },
  {
   "cell_type": "code",
   "execution_count": null,
   "id": "824e2cf6",
   "metadata": {},
   "outputs": [],
   "source": [
    "STRING_score = STRING_df[STRING_df['combined_score'] > 400].shape"
   ]
  },
  {
   "cell_type": "code",
   "execution_count": null,
   "id": "d610508b",
   "metadata": {
    "scrolled": true
   },
   "outputs": [],
   "source": [
    "# Plot the distribution\n",
    "plt.figure(figsize=(10, 6))\n",
    "plt.hist(STRING_df['combined_score'], bins=50, color='skyblue', edgecolor='black')\n",
    "plt.title('Distribution of Combined Score')\n",
    "plt.xlabel('Combined Score')\n",
    "plt.ylabel('Frequency')\n",
    "plt.grid(axis='y', linestyle='--', alpha=0.7)\n",
    "plt.show()\n",
    "\n",
    "# Print the mean\n",
    "mean_combined_score = STRING_df['combined_score'].mean()\n",
    "print(f\"The mean of the combined score is: {mean_combined_score}\")"
   ]
  },
  {
   "cell_type": "code",
   "execution_count": null,
   "id": "15d572fc",
   "metadata": {},
   "outputs": [],
   "source": [
    "# Perform a left join between the two dataframes and add an indicator column\n",
    "combined_df = UCSC_df.merge(STRING_df, how='left', on=['gene1', 'gene2'], indicator=True)\n",
    "\n",
    "# Rename the indicator column to 'match'\n",
    "combined_df.rename(columns={'_merge': 'match'}, inplace=True)\n"
   ]
  },
  {
   "cell_type": "code",
   "execution_count": null,
   "id": "d5f13f91",
   "metadata": {
    "scrolled": true
   },
   "outputs": [],
   "source": [
    "print(combined_df[combined_df['match'] == 'right_only'].shape)\n",
    "\n",
    "print(combined_df[combined_df['match'] == 'left_only'].shape)\n",
    "\n",
    "print(combined_df[combined_df['match'] == 'both'].shape)\n"
   ]
  },
  {
   "cell_type": "code",
   "execution_count": null,
   "id": "3cba7eb7",
   "metadata": {},
   "outputs": [],
   "source": [
    "combined_df['match'].unique()"
   ]
  },
  {
   "cell_type": "code",
   "execution_count": null,
   "id": "83c5c5f7",
   "metadata": {},
   "outputs": [],
   "source": [
    "235328 - 715308"
   ]
  },
  {
   "cell_type": "code",
   "execution_count": null,
   "id": "06aa8c9c",
   "metadata": {},
   "outputs": [],
   "source": [
    "combined_df[combined_df['match'] == 'right_only']"
   ]
  },
  {
   "cell_type": "code",
   "execution_count": null,
   "id": "3bc14cf4",
   "metadata": {},
   "outputs": [],
   "source": [
    "both_pairs = combined_df[combined_df['match'] == 'both']\n",
    "\n",
    "print(both_pairs.shape[0])"
   ]
  }
 ],
 "metadata": {
  "kernelspec": {
   "display_name": "Python 3 (ipykernel)",
   "language": "python",
   "name": "python3"
  },
  "language_info": {
   "codemirror_mode": {
    "name": "ipython",
    "version": 3
   },
   "file_extension": ".py",
   "mimetype": "text/x-python",
   "name": "python",
   "nbconvert_exporter": "python",
   "pygments_lexer": "ipython3",
   "version": "3.10.7"
  }
 },
 "nbformat": 4,
 "nbformat_minor": 5
}
